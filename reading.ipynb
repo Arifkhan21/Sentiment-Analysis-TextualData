{
 "cells": [
  {
   "cell_type": "code",
   "execution_count": 54,
   "metadata": {},
   "outputs": [],
   "source": [
    "import pandas as pd\n",
    "import doc_cleaner as cln\n",
    "import os\n",
    "import numpy as np\n",
    "import sys\n",
    "reload(sys)\n",
    "sys.setdefaultencoding('utf8')\n"
   ]
  },
  {
   "cell_type": "code",
   "execution_count": 2,
   "metadata": {},
   "outputs": [],
   "source": [
    "dataset = pd.DataFrame([],columns=('review','label'))"
   ]
  },
  {
   "cell_type": "code",
   "execution_count": 15,
   "metadata": {},
   "outputs": [],
   "source": [
    "dir = './train/pos'\n",
    "reviews=[]\n",
    "labels = []\n",
    "\n",
    "for file in os.listdir(dir):\n",
    "    if file.endswith('.txt'):\n",
    "        \n",
    "        fd =  open(os.path.join( dir, file ) ,\"r\")\n",
    "#         file_data = fd.read()\n",
    "        file_data = [line.decode('utf-8').strip() for line in fd.readlines()]\n",
    "        reviews.append(file_data)\n",
    "        labels.append('pos')\n",
    "            \n",
    "            \n",
    "dir = './train/neg'          \n",
    "for file in os.listdir(dir):\n",
    "    if file.endswith('.txt'):\n",
    "        \n",
    "        fd =  open(os.path.join( dir, file ) ,\"r\")\n",
    "#         file_data = fd.read()\n",
    "        file_data = [line.decode('utf-8').strip() for line in fd.readlines()]\n",
    "        reviews.append(file_data)\n",
    "        labels.append('neg')\n",
    "        \n",
    "\n",
    "\n"
   ]
  },
  {
   "cell_type": "markdown",
   "metadata": {},
   "source": [
    "## Cleaning the data\n"
   ]
  },
  {
   "cell_type": "code",
   "execution_count": 37,
   "metadata": {},
   "outputs": [],
   "source": [
    "clean_revies=['Hey there my name is not funny , have a good day']\n",
    "clean_reviews=[]\n",
    "for review in reviews:\n",
    "    clean = cln.StemmedReview(review[0])\n",
    "    clean_reviews.append(clean)\n"
   ]
  },
  {
   "cell_type": "code",
   "execution_count": 44,
   "metadata": {},
   "outputs": [],
   "source": [
    "ix=0\n",
    "dataset['review']=(clean_reviews)\n",
    "dataset['label']=(labels)\n"
   ]
  },
  {
   "cell_type": "code",
   "execution_count": 55,
   "metadata": {},
   "outputs": [],
   "source": [
    "dataset.to_csv('stemmed_data.csv')"
   ]
  },
  {
   "cell_type": "code",
   "execution_count": null,
   "metadata": {},
   "outputs": [],
   "source": []
  }
 ],
 "metadata": {
  "kernelspec": {
   "display_name": "Python 2",
   "language": "python",
   "name": "python2"
  },
  "language_info": {
   "codemirror_mode": {
    "name": "ipython",
    "version": 2
   },
   "file_extension": ".py",
   "mimetype": "text/x-python",
   "name": "python",
   "nbconvert_exporter": "python",
   "pygments_lexer": "ipython2",
   "version": "2.7.12"
  }
 },
 "nbformat": 4,
 "nbformat_minor": 2
}
